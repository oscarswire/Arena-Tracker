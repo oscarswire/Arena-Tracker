{
 "cells": [
  {
   "cell_type": "markdown",
   "metadata": {},
   "source": [
    "## This is a project to track and analyse performance in the league of legends arena mode."
   ]
  },
  {
   "cell_type": "markdown",
   "metadata": {},
   "source": [
    "# Importer from riot api\n",
    "## API Webpage = https://developer.riotgames.com/\n",
    "You need a new api key every 24 hours"
   ]
  },
  {
   "cell_type": "markdown",
   "metadata": {},
   "source": [
    "# Inputs"
   ]
  },
  {
   "cell_type": "markdown",
   "metadata": {},
   "source": [
    "###  Fill in every game:"
   ]
  },
  {
   "cell_type": "code",
   "execution_count": 220,
   "metadata": {},
   "outputs": [],
   "source": [
    "TeammateChamp = ''  # Manually inputted teammate champ name\n",
    "PremadeYes = False  # Manually inputted premade status"
   ]
  },
  {
   "cell_type": "markdown",
   "metadata": {},
   "source": [
    "### Fill in once\n"
   ]
  },
  {
   "cell_type": "code",
   "execution_count": 222,
   "metadata": {},
   "outputs": [],
   "source": [
    "API_KEY = '' #Extract from the webpage above\n",
    "SUMMONER_NAME = ''#Your in-game name, found via in-game profile. You should know this\n",
    "REGION = '' #redundant\n",
    "GLOBAL_REGION = '' #Choose from \"europe\",\"america\",\"asia\", and \"esports\" (unlikely)\n",
    "gameName = \"\" # same as SUMMONER_NAME probably\n",
    "tagLine = \"\" #your tag after your name in league eg \"inter\""
   ]
  },
  {
   "cell_type": "markdown",
   "metadata": {},
   "source": [
    "# Megafunction (start to finish, no analysis)"
   ]
  },
  {
   "cell_type": "code",
   "execution_count": 223,
   "metadata": {},
   "outputs": [
    {
     "name": "stdout",
     "output_type": "stream",
     "text": [
      "Data appended successfully.\n",
      "Data Added is:  {'Champ': 'AurelionSol', 'Game': '2', 'Prism': 'Detonation Orb', 'Aug 1': \"It's Killing Time\", 'Aug 2': 'Spellwake', 'Aug 3': 'ADAPt', 'Aug 4': 'Mind to Matter', 'Placement': 3, 'Teammate': 'Nasus', 'IsPremade': 'No', 'Kills': 11, 'Deaths': 9, 'Assists': 5, 'Damage': 81317, 'Item 0': 'Detonation Orb', 'Item 1': 'Void Staff', 'Item 2': 'Crown of the Shattered Queen', 'Item 3': \"Rylai's Crystal Scepter\", 'Item 4': \"Liandry's Torment\", 'Item 5': \"Rabadon's Deathcap\", 'Item 6': 'Arcane Sweeper'}\n",
      "\n",
      " Aatrox is finished. It took 4 games.\n",
      "\n",
      " Alistar is finished. It took 1 games.\n",
      "\n",
      " Samira is finished. It took 1 games.\n",
      "\n",
      " Wins left before title: 57\n",
      "Total games played: 14\n",
      "Average games per win is 4.666666666666667\n",
      "At this rate it will take 266.0 more games to finish the challenge\n"
     ]
    }
   ],
   "source": [
    "import requests\n",
    "import json\n",
    "import csv\n",
    "\n",
    "\n",
    "# List of prismatic items\n",
    "prismatic_items = [\n",
    "    \"Eleisa's Miracle\", \"Gambler's Blade\", \"Night Harvester\", \"Cruelty\", \"Hemomancer's Helm\",\n",
    "    \"Cloak of Starry Night\", \"Hamstringer\", \"Shield of Molten Stone\", \"Runecarver\", \"Flesheater\",\n",
    "    \"Sanguine Gift\", \"Demonic Embrace\", \"Dragonheart\", \"Reality Fracture\", \"Duskblade of Draktharr\",\n",
    "    \"Talisman of Ascension\", \"Turbo Chemtank\", \"Darksteel Talons\", \"Mirage Blade\", \"Sword of the Divine\",\n",
    "    \"Empyrean Promise\", \"Divine Sunderer\", \"Decaitator\", \"Force of Entropy\", \"Detonation Orb\",\n",
    "    \"Crown of the Shattered Queen\", \"Innervating Locket\", \"Prowler's Claw\", \"Radiant Virtue\",\n",
    "    \"Moonflar Spellblade\", \"Demon King's Crown\", \"Overlord's Broodmail\", \"Gargoyle Stoneplate\",\n",
    "    \"Everfrost\", \"Fulmination\", \"Galeforce\"\n",
    "]\n",
    "\n",
    "\n",
    "# Load item data from JSON file\n",
    "with open('item.json', 'r') as f:\n",
    "    item_data = json.load(f)\n",
    "\n",
    "# Load augments data from JSON file and create a dictionary for quick lookup\n",
    "with open('augments.json', 'r') as f:\n",
    "    augments_data = json.load(f)\n",
    "    augments_dict = {augment['id']: augment['nameTRA'] for augment in augments_data}\n",
    "\n",
    "# Function to get augment name based on ID using the dictionary\n",
    "def get_augment_name(augment_id):\n",
    "    augment_name = augments_dict.get(augment_id, '')\n",
    "    return augment_name\n",
    "\n",
    "\n",
    "# 1. Get Summoner ID\n",
    "summoner_url = f'https://{GLOBAL_REGION}.api.riotgames.com/riot/account/v1/accounts/by-riot-id/{gameName}/{tagLine}'\n",
    "response = requests.get(summoner_url, headers={\"X-Riot-Token\": API_KEY})\n",
    "summoner_data = response.json()\n",
    "puuid = summoner_data['puuid']\n",
    "\n",
    "# Step 2: Get Match History (Assuming last match)\n",
    "match_history_url = f'https://{GLOBAL_REGION}.api.riotgames.com/lol/match/v5/matches/by-puuid/{puuid}/ids?start=0&count=1'\n",
    "response = requests.get(match_history_url, headers={\"X-Riot-Token\": API_KEY})\n",
    "match_ids = response.json()\n",
    "last_match_id = match_ids[0]\n",
    "\n",
    "# Step 3: Get Match Details\n",
    "match_details_url = f'https://{GLOBAL_REGION}.api.riotgames.com/lol/match/v5/matches/{last_match_id}'\n",
    "response = requests.get(match_details_url, headers={\"X-Riot-Token\": API_KEY})\n",
    "match_details = response.json()\n",
    "\n",
    "# Step 4: Extract your specific data from the match details\n",
    "my_data = None\n",
    "for participant in match_details['info']['participants']:\n",
    "    if participant['puuid'] == puuid:\n",
    "        my_data = participant\n",
    "        break\n",
    "\n",
    "# Step 5: Create a dictionary to map item IDs to item names\n",
    "item_dict = {item_id: details['name'] for item_id, details in item_data['data'].items()}\n",
    "\n",
    "# Step 6: Extract specific data and prepare for CSV\n",
    "if my_data:\n",
    "    extracted_data = {\n",
    "        'Champ': my_data.get('championName', ''),\n",
    "        'Game': '',  # Placeholder for the game number\n",
    "        'Prism': '',  # Placeholder for Prism augment, adjust as needed\n",
    "        'Aug 1': get_augment_name(my_data.get('playerAugment1', 0)),\n",
    "        'Aug 2': get_augment_name(my_data.get('playerAugment2', 0)),\n",
    "        'Aug 3': get_augment_name(my_data.get('playerAugment3', 0)),\n",
    "        'Aug 4': get_augment_name(my_data.get('playerAugment4', 0)),\n",
    "        'Placement': my_data.get('placement', 0),\n",
    "        'Teammate': TeammateChamp,\n",
    "        'IsPremade': 'Yes' if PremadeYes else 'No',\n",
    "        'Kills': my_data.get('kills', 0),\n",
    "        'Deaths': my_data.get('deaths', 0),\n",
    "        'Assists': my_data.get('assists', 0),  # Add assists data here\n",
    "        'Damage': my_data.get('totalDamageDealt', 0),   \n",
    "        'Item 0': item_dict.get(str(my_data.get('item0', 0)), ''),\n",
    "        'Item 1': item_dict.get(str(my_data.get('item1', 0)), ''),\n",
    "        'Item 2': item_dict.get(str(my_data.get('item2', 0)), ''),\n",
    "        'Item 3': item_dict.get(str(my_data.get('item3', 0)), ''),\n",
    "        'Item 4': item_dict.get(str(my_data.get('item4', 0)), ''),\n",
    "        'Item 5': item_dict.get(str(my_data.get('item5', 0)), ''),\n",
    "        'Item 6': item_dict.get(str(my_data.get('item6', 0)), '')\n",
    "    }\n",
    "    \n",
    "    # Check for prismatic items equipped\n",
    "    for i in range(7):\n",
    "        item_name = item_dict.get(str(my_data.get(f'item{i}', 0)), '')\n",
    "        if item_name in prismatic_items:\n",
    "            extracted_data['Prism'] = item_name\n",
    "            break\n",
    "    \n",
    "    # Check for duplicates in the CSV file and set the game number\n",
    "    last_game_number = 0\n",
    "    duplicate_row = False\n",
    "    try:\n",
    "        with open('ArenaTracker.csv', 'r', newline='') as file:\n",
    "            count = 0\n",
    "            reader = csv.DictReader(file)\n",
    "            for row in reader:\n",
    "                # Check for duplicate excluding 'Champ' and 'Game' columns\n",
    "                if row['Champ'] == extracted_data['Champ']:\n",
    "                    count+=1\n",
    "            last_game_number = count+1\n",
    "    except FileNotFoundError:\n",
    "        # If the file does not exist, start the game number at 1\n",
    "        last_game_number = 1\n",
    "\n",
    "\n",
    "    # Set the game number based on the condition\n",
    "    extracted_data['Game'] = str(last_game_number if last_game_number > 0 else 1)\n",
    "\n",
    "\n",
    "    # Append to CSV file\n",
    "    with open('ArenaTracker.csv', 'a', newline='') as file:\n",
    "        writer = csv.DictWriter(file, fieldnames=extracted_data.keys())\n",
    "        writer.writerow(extracted_data)\n",
    "        print(\"Data appended successfully.\")\n",
    "        print(\"Data Added is: \",extracted_data)\n",
    "else:\n",
    "    print(\"Your data was not found in the match details.\")\n",
    "\n",
    "\n",
    "from csv import reader\n",
    "\n",
    "### data set ###\n",
    "opened_file = open('ArenaTracker.csv')\n",
    "read_file = reader(opened_file)\n",
    "arena = list(read_file)\n",
    "arena_header = arena[0]\n",
    "arena = arena[1:]\n",
    "\n",
    "#to make a list of augments\n",
    "def collater(column, lib):\n",
    "    for item in column:\n",
    "        if item not in lib:\n",
    "            lib.append(item)\n",
    "    return lib\n",
    "\n",
    "def extract_column(matrix, col_index):\n",
    "    column = []\n",
    "    for row in matrix:\n",
    "        if len(row) > col_index:\n",
    "            column.append(row[col_index])\n",
    "    return column\n",
    "\n",
    "#### Lists by Column\n",
    "\n",
    "champset = extract_column(arena, 0)\n",
    "gameset = extract_column(arena, 1)\n",
    "prismset = extract_column(arena, 2)\n",
    "firstaug = extract_column(arena, 3)\n",
    "secondaug = extract_column(arena, 4)\n",
    "thirdaug = extract_column(arena, 5)\n",
    "fourthaug = extract_column(arena, 6)\n",
    "placeset = extract_column(arena, 7)\n",
    "teamset = extract_column(arena, 8)\n",
    "killset = extract_column(arena, 10)\n",
    "deathset = extract_column(arena, 11)\n",
    "assistset = extract_column(arena, 12)\n",
    "damageset = extract_column(arena, 13)\n",
    "item1set = extract_column(arena, 14)\n",
    "item2set = extract_column(arena, 15)\n",
    "item3set = extract_column(arena, 16)\n",
    "item4set = extract_column(arena, 17)\n",
    "item5set = extract_column(arena, 18)\n",
    "item6set = extract_column(arena, 19)\n",
    "\n",
    "augset1 = []\n",
    "augset1.append(firstaug)\n",
    "augset1.append(secondaug)\n",
    "augset1.append(thirdaug)\n",
    "augset1.append(fourthaug)\n",
    "\n",
    "augset = []\n",
    "for row in augset1:\n",
    "    for item in row:\n",
    "        augset.append(item)\n",
    "        \n",
    "itemset1 = []\n",
    "itemset1.append(item1set)\n",
    "itemset1.append(item2set)\n",
    "itemset1.append(item3set)\n",
    "itemset1.append(item4set)\n",
    "itemset1.append(item5set)\n",
    "itemset1.append(item6set)\n",
    "\n",
    "itemset = []\n",
    "for row in itemset1:\n",
    "    for item in row:\n",
    "        itemset.append(item)\n",
    "    \n",
    "### Making inventories\n",
    "champs = []\n",
    "games = []\n",
    "augments = []\n",
    "items = []\n",
    "places = []\n",
    "teammates = []\n",
    "prismatics = []\n",
    "\n",
    "\n",
    "\n",
    "champs = collater(champset,champs)\n",
    "games = collater(gameset, games)\n",
    "augments = collater (augset,augments)\n",
    "items = collater(itemset,items)\n",
    "places = collater(placeset,places)\n",
    "teammates = collater(teamset, teammates)\n",
    "prismatics = collater(prismset, prismatics)\n",
    "\n",
    "\n",
    "### Finished champs\n",
    "\n",
    "wins_left = 60\n",
    "for row in arena:\n",
    "    placement_game = row[7]\n",
    "    champ_name = row[0]\n",
    "    game_number = row[1]\n",
    "    if placement_game == \"1\":\n",
    "        print(\"\\n\", champ_name,\"is finished. It took\",game_number,\"games.\")\n",
    "        wins_left = wins_left-1\n",
    "avg_per_win = len(arena)/(60-wins_left)\n",
    "if wins_left == 60:\n",
    "        print(\"No champs are finished.\")\n",
    "print(\"\\n Wins left before title:\",wins_left)\n",
    "print(\"Total games played:\", len(arena))\n",
    "print(\"Average games per win is\",avg_per_win)\n",
    "print(\"At this rate it will take\",(wins_left*avg_per_win),\"more games to finish the challenge\")"
   ]
  },
  {
   "cell_type": "markdown",
   "metadata": {},
   "source": [
    "# Main Data Analysis"
   ]
  },
  {
   "cell_type": "code",
   "execution_count": 148,
   "metadata": {},
   "outputs": [
    {
     "data": {
      "text/markdown": [
       "\n",
       "| Champ | Augment | Prismatic | Placement | Teammate | KDA | Damage | \n",
       "|--------|--------|--------|--------|--------|--------|--------|\n",
       "| Ahri |  ADAPt | Detonation Orb | 3.75 | Brand | 2.49 | 85525.2 |\n"
      ],
      "text/plain": [
       "<IPython.core.display.Markdown object>"
      ]
     },
     "metadata": {},
     "output_type": "display_data"
    },
    {
     "data": {
      "text/markdown": [
       "| Champ   | Game | Prismatic Item         | Augment 1              | Augment 2           | Augment 3               | Augment 4         | Placement | Teammate | IsPremade | Kills | Deaths | Assists | Damage | Item 0           | Item 1              | Item 2                 | Item 3            | Item 4             | Item 5                 | Item 6         |\n",
       "| ------- | ---- | ---------------------- | ---------------------- | ------------------- | ----------------------- | ----------------- | --------- | -------- | --------- | ----- | ------ | ------- | ------ | ---------------- | ------------------- | ---------------------- | ----------------- | ------------------ | ---------------------- | -------------- |\n",
       "| Aatrox  | 1    | Prowler's Claw         | Thread the Needle      | Jeweled Gauntlet    | Outlaw's Grit           | Vengeance         | 3         | Nami     | No        | 9     | 11     | 5       | 37403  | Black Cleaver    | Ravenous Hydra      | Prowler's Claw         | Spirit Visage     | Sterak's Gage      | Sundered Sky           | Arcane Sweeper |\n",
       "| Aatrox  | 2    | Overlord's Broodmail   | Jeweled Gauntlet       | Goliath             | Mystic Punch            |                   | 7         | Brand    | No        | 5     | 6      | 4       | 27596  | Black Cleaver    | Ravenous Hydra      | Overlord's Broodmail   | Spirit Visage     | Sterak's Gage      | Sundered Sky           | Arcane Sweeper |\n",
       "| Aatrox  | 3    | Duskblade of Draktharr | Soul Siphon            | Giant Slayer        | Thread the Needle       |                   | 6         | Gwen     | No        | 6     | 6      | 8       | 96913  | Guardian's Blade | Mercury's Treads    | Duskblade of Draktharr | Sundered Sky      | Sterak's Gage      | Atma's Reckoning       | Arcane Sweeper |\n",
       "| Aatrox  | 4    | Prowler's Claw         | Goliath                | Blunt Force         | First-Aid Kit           | Dive Bomber       | 1         | Brand    | No        | 6     | 2      | 16      | 104528 | Black Cleaver    | Ravenous Hydra      | Prowler's Claw         | Spirit Visage     | Sterak's Gage      | Sundered Sky           | Arcane Sweeper |\n",
       "| Ahri    | 1    | Reality Fracture       | Apex Inventor          | ADAPt               | Earthwake               |                   | 5         | Samira   | No        | 5     | 7      | 7       | 88031  | Guardian's Orb   | Sorcerer's Shoes    | Reality Fracture       | Heartsteel        | Eclipse            | Unending Despair       | Arcane Sweeper |\n",
       "| Akali   | 1    | Runecarver             | Witchful Thinking      | ADAPt               | Earthwake               |                   | 5         | Garen    | No        | 6     | 8      | 4       | 106720 | Perplexity       | Hextech Gunblade    | Runecarver             | Sorcerer's Shoes  | Lich Bane          | Rabadon's Deathcap     | Arcane Sweeper |\n",
       "| Ahri    | 2    | Dragonheart            | Magic Missile          | Vengeance           | Big Brain               |                   | 4         | Diana    | No        | 7     | 5      | 7       | 81408  | Shadowflame      | Sorcerer's Shoes    | Dragonheart            | Liandry's Torment | Blackfire Torch    | Perplexity             | Arcane Sweeper |\n",
       "| Ahri    | 3    | Detonation Orb         | Eureka                 | Bread And Butter    | Courage of the Colossus | Shadow Runner     | 3         | Darius   | No        | 7     | 7      | 8       | 76913  | Malignance       | Zhonya's Hourglass  | Detonation Orb         | Liandry's Torment | Rabadon's Deathcap | Cryptbloom             | Arcane Sweeper |\n",
       "| Alistar | 1    | Gargoyle Stoneplate    | Center of the Universe | Dashing             | Apex Inventor           | Impassable        | 1         | Riven    | No        | 9     | 0      | 13      | 70109  | Unending Despair | Gargoyle Stoneplate | Mercury's Treads       | Heartsteel        | Kaenic Rookern     | Sundered Sky           | Arcane Sweeper |\n",
       "| Teemo   | 1    | Night Harvester        | From Beginning to End  | ADAPt               | Deft                    | Thread the Needle | 3         | Olaf     | No        | 13    | 8      | 4       | 86802  | Sorcerer's Shoes | Hextech Gunblade    | Night Harvester        | Liandry's Torment | Rabadon's Deathcap | Malignance             | Arcane Sweeper |\n",
       "| Ahri    | 4    | Detonation Orb         | Goredrink              | Phenomenal Evil     | Fallen Aegis            |                   | 6         | Vladimir | No        | 7     | 5      | 1       | 65484  | Detonation Orb   | Sorcerer's Shoes    | Reality Fracture       | Liandry's Torment | Perplexity         |                        | Arcane Sweeper |\n",
       "| Samira  | 1    | Duskblade of Draktharr | Draw Your Sword        | Tank It Or Leave It | Shrink Ray              | Deft              | 1         | Rell     | No        | 26    | 9      | 1       | 184395 | Bloodthirster    | Guardian Angel      | Duskblade of Draktharr | The Collector     | Infinity Edge      | Lord Dominik's Regards | Arcane Sweeper |"
      ],
      "text/plain": [
       "<IPython.core.display.Markdown object>"
      ]
     },
     "metadata": {},
     "output_type": "display_data"
    }
   ],
   "source": [
    "### Aggregate Data Analysis\n",
    "import tkinter as tk\n",
    "from tkinter import messagebox\n",
    "from IPython.display import display, Markdown\n",
    "\n",
    "def highestcounter(lib, column):\n",
    "    highestcount_count = 0\n",
    "    highestcount_name = None\n",
    "\n",
    "    for unique_item in set(lib):  # Use set to iterate over unique items in lib\n",
    "        count = 0\n",
    "        for cell in column:\n",
    "            if unique_item == cell and unique_item != \"\":\n",
    "                count += 1\n",
    "        if count > highestcount_count:\n",
    "            highestcount_count = count\n",
    "            highestcount_name = unique_item\n",
    "    return highestcount_name\n",
    "\n",
    "def calculate_average(numbers):\n",
    "    # Convert the list of strings to a list of integers\n",
    "    numeric_values = [int(num) for num in numbers]\n",
    "    \n",
    "    if not numeric_values:\n",
    "        return 0  # Handle the case for an empty list\n",
    "    \n",
    "    total_sum = sum(numeric_values)\n",
    "    count = len(numeric_values)\n",
    "    average = total_sum / count\n",
    "    return average\n",
    "\n",
    "mc_champ = highestcounter(champs,champset)\n",
    "mc_augment = highestcounter(augments,augset)\n",
    "mc_prismatic = highestcounter(prismatics,prismset)\n",
    "avg_placementa = calculate_average(placeset)\n",
    "avg_placement = f\"{avg_placementa:.3}\"\n",
    "mc_teammate = highestcounter(teammates,teamset)\n",
    "avg_kills = calculate_average(killset)\n",
    "avg_deaths = calculate_average(deathset)\n",
    "avg_assists = calculate_average(assistset)\n",
    "avg_kdaa = (avg_kills+avg_assists)/avg_deaths\n",
    "avg_kda = f\"{avg_kdaa:.3}\"\n",
    "avg_damagea = calculate_average(damageset)\n",
    "avg_damage = f\"{avg_damagea:.6}\"\n",
    "\n",
    "\n",
    "\n",
    "# Create the table as a Markdown string\n",
    "\n",
    "table = f\"\"\"\n",
    "| Champ | Augment | Prismatic | Placement | Teammate | KDA | Damage | \n",
    "|--------|--------|--------|--------|--------|--------|--------|\n",
    "| {mc_champ} |  {mc_augment} | {mc_prismatic} | {avg_placement} | {mc_teammate} | {avg_kda} | {avg_damage} |\n",
    "\"\"\"\n",
    "# Display the table\n",
    "display(Markdown(table))\n",
    "\n",
    "\n",
    "yestable = True\n",
    "filename = \"ArenaTracker.csv\"\n",
    "\n",
    "import csv\n",
    "\n",
    "from IPython.display import display, Markdown\n",
    "\n",
    "def read_csv(filename):\n",
    "    with open(filename, mode='r', newline='') as file:\n",
    "        reader = csv.reader(file)\n",
    "        rows = list(reader)\n",
    "    return rows\n",
    "\n",
    "def format_as_markdown_table(rows):\n",
    "    # Ensure there is at least one row\n",
    "    if not rows:\n",
    "        return \"\"\n",
    "\n",
    "    # Extract headers and rows\n",
    "    headers = rows[0]\n",
    "    data = rows[1:]\n",
    "\n",
    "    # Calculate column widths\n",
    "    col_widths = [len(header) for header in headers]\n",
    "    for row in data:\n",
    "        for i, cell in enumerate(row):\n",
    "            col_widths[i] = max(col_widths[i], len(cell))\n",
    "\n",
    "    # Create the header row\n",
    "    header_row = \"| \" + \" | \".join(f\"{header.ljust(col_widths[i])}\" for i, header in enumerate(headers)) + \" |\"\n",
    "    \n",
    "    # Create the separator row\n",
    "    separator_row = \"| \" + \" | \".join('-' * col_width for col_width in col_widths) + \" |\"\n",
    "    \n",
    "    # Create the data rows\n",
    "    data_rows = [\n",
    "        \"| \" + \" | \".join(f\"{cell.ljust(col_widths[i])}\" for i, cell in enumerate(row)) + \" |\"\n",
    "        for row in data\n",
    "    ]\n",
    "\n",
    "    # Combine all rows into a single Markdown string\n",
    "    markdown_table = \"\\n\".join([header_row, separator_row] + data_rows)\n",
    "    \n",
    "    return markdown_table\n",
    "\n",
    "def display_markdown_table(filename):\n",
    "    rows = read_csv(filename)\n",
    "    markdown_table = format_as_markdown_table(rows)\n",
    "    display(Markdown(markdown_table))\n",
    "\n",
    "\n",
    "if yestable == True:\n",
    "    filename = 'ArenaTracker.csv'\n",
    "    display_markdown_table(filename)\n",
    "else:\n",
    "    print(\"No table\")\n",
    "\n"
   ]
  },
  {
   "cell_type": "markdown",
   "metadata": {},
   "source": [
    "# Champ Specific Analysis"
   ]
  },
  {
   "cell_type": "code",
   "execution_count": 198,
   "metadata": {},
   "outputs": [
    {
     "name": "stdout",
     "output_type": "stream",
     "text": [
      "CSV file 'ArenaChampTracker.csv' created successfully with the specified headers.\n"
     ]
    }
   ],
   "source": [
    "### Create Champ Analysis CSV\n",
    "\n",
    " # Define the headers\n",
    "headers = [\n",
    "        'Champion', 'Game Count', \"Finished\", \"Favourite Prismatic\", 'Favourite Augment',  \n",
    "        'Average Placement', 'Most Common Teammate', \"KDA\",'Average Damage'\n",
    "]\n",
    "\n",
    "    # Define the filename\n",
    "filename = 'ArenaChampTracker.csv'\n",
    "\n",
    "    # Open the file for writing\n",
    "with open(filename, mode='w', newline='') as file:\n",
    "        # Create a csv writer object\n",
    "    writer = csv.writer(file)\n",
    "\n",
    "        # Write the header\n",
    "    writer.writerow(headers)\n",
    "\n",
    "        # Optionally, write some data rows\n",
    "        # writer.writerow(['example_champ', 'example_game', 'example_aug_1', ...])\n",
    "\n",
    "print(f\"CSV file '{filename}' created successfully with the specified headers.\")\n",
    "\n",
    "### writing the CSV\n",
    "champslist_sorted = sorted(champs)\n",
    "\n",
    "def kda_finder(k,d,a):\n",
    "    found_kda = calculate_average(k)+calculate_average(a)\n",
    "    found_kda = found_kda/calculate_average(d)\n",
    "    return found_kda\n",
    "\n",
    "\n",
    "\n",
    "### data set ###\n",
    "for unique_champ in champslist_sorted:\n",
    "    ca_gamecount = 0\n",
    "    ca_finished = False\n",
    "    ca_fave_prismatic = []\n",
    "    ca_fave_augment = []\n",
    "    ca_fave_augment_mega = []\n",
    "    ca_placement_set = []\n",
    "    ca_most_common_teammate = []\n",
    "    ca_killset = []\n",
    "    ca_deathset = []\n",
    "    ca_assistset = []\n",
    "    ca_damageset = []\n",
    "    \n",
    "    for row in arena:\n",
    "        ca_champname = row[0]\n",
    "        ca_gamecount_unique = int(row[1])\n",
    "        ca_prismatic = row[2]\n",
    "        ca_aug1 = row[3]\n",
    "        ca_aug2 = row[4]\n",
    "        ca_aug3 = row[5]\n",
    "        ca_aug4 = row[6]\n",
    "        ca_placement_unique = row[7]\n",
    "        ca_teammate = row[8]\n",
    "        ca_kills = row[10]\n",
    "        ca_deaths = int(row[11])\n",
    "        if ca_deaths == 0:\n",
    "            ca_deaths = 1\n",
    "        ca_assists = row[12]\n",
    "        ca_damage = row[13]\n",
    "        \n",
    "        if ca_champname == unique_champ:\n",
    "            \n",
    "            if ca_gamecount_unique > ca_gamecount:\n",
    "                ca_gamecount = ca_gamecount_unique\n",
    "            if ca_placement_unique == 1 or ca_placement_unique == \"1\":\n",
    "                ca_finished = True\n",
    "            ca_fave_prismatic.append(ca_prismatic)\n",
    "            ca_fave_augment_mega.append(ca_aug1)\n",
    "            ca_fave_augment_mega.append(ca_aug2)\n",
    "            ca_fave_augment_mega.append(ca_aug3)\n",
    "            ca_fave_augment_mega.append(ca_aug4)\n",
    "            for row in ca_fave_augment_mega:\n",
    "                for item in row:\n",
    "                    ca_fave_augment.append(item)\n",
    "            ca_most_common_teammate.append(ca_teammate)\n",
    "            ca_placement_set.append(ca_placement_unique)\n",
    "            ca_killset.append(ca_kills)\n",
    "            ca_deathset.append(ca_deaths)\n",
    "            ca_assistset.append(ca_assists)\n",
    "            ca_damageset.append(ca_damage)\n",
    "            \n",
    "            ca_analysis = {\n",
    "                \"Champion\": unique_champ,\n",
    "                \"Game Count\": ca_gamecount,\n",
    "                \"Finished\": ca_finished,\n",
    "                \"Favourite Prismatic\": highestcounter(prismatics,ca_fave_prismatic),\n",
    "                'Favourite Augment': highestcounter(augments,ca_fave_augment_mega),\n",
    "                'Average Placement': round(calculate_average(ca_placement_set),2),\n",
    "                'Most Common Teammate': highestcounter(teammates,ca_most_common_teammate),\n",
    "                \"KDA\": round(kda_finder(ca_killset,ca_deathset,ca_assistset),2),\n",
    "                'Average Damage': round(calculate_average(ca_damageset),0),\n",
    "                   \n",
    "            }\n",
    "           \n",
    "            \n",
    "        \n",
    "    with open('ArenaChampTracker.csv', 'a', newline='') as file:\n",
    "        writer = csv.DictWriter(file, fieldnames=ca_analysis.keys())\n",
    "        writer.writerow(ca_analysis)\n",
    "\n",
    "    \n",
    "\n",
    "        "
   ]
  },
  {
   "cell_type": "markdown",
   "metadata": {},
   "source": [
    "## Linear Regression / Trends / Collinearity Check"
   ]
  },
  {
   "cell_type": "code",
   "execution_count": 201,
   "metadata": {},
   "outputs": [
    {
     "name": "stdout",
     "output_type": "stream",
     "text": [
      "Linear Regression: Kills ~ Damage\n",
      "                            OLS Regression Results                            \n",
      "==============================================================================\n",
      "Dep. Variable:                  Kills   R-squared:                       0.470\n",
      "Model:                            OLS   Adj. R-squared:                  0.442\n",
      "Method:                 Least Squares   F-statistic:                     16.82\n",
      "Date:                Sat, 29 Jun 2024   Prob (F-statistic):           0.000608\n",
      "Time:                        17:43:08   Log-Likelihood:                -54.822\n",
      "No. Observations:                  21   AIC:                             113.6\n",
      "Df Residuals:                      19   BIC:                             115.7\n",
      "Df Model:                           1                                         \n",
      "Covariance Type:            nonrobust                                         \n",
      "==============================================================================\n",
      "                 coef    std err          t      P>|t|      [0.025      0.975]\n",
      "------------------------------------------------------------------------------\n",
      "const          0.5552      2.292      0.242      0.811      -4.242       5.352\n",
      "Damage         0.0001   2.61e-05      4.101      0.001    5.24e-05       0.000\n",
      "==============================================================================\n",
      "Omnibus:                        1.663   Durbin-Watson:                   1.059\n",
      "Prob(Omnibus):                  0.435   Jarque-Bera (JB):                1.367\n",
      "Skew:                          -0.470   Prob(JB):                        0.505\n",
      "Kurtosis:                       2.176   Cond. No.                     2.66e+05\n",
      "==============================================================================\n",
      "\n",
      "Notes:\n",
      "[1] Standard Errors assume that the covariance matrix of the errors is correctly specified.\n",
      "[2] The condition number is large, 2.66e+05. This might indicate that there are\n",
      "strong multicollinearity or other numerical problems.\n"
     ]
    },
    {
     "data": {
      "image/png": "[encoded data removed]",
      "text/plain": [
       "<Figure size 720x432 with 1 Axes>"
      ]
     },
     "metadata": {
      "needs_background": "light"
     },
     "output_type": "display_data"
    },
    {
     "name": "stdout",
     "output_type": "stream",
     "text": [
      "Linear Regression: Placement ~ Kills\n",
      "                            OLS Regression Results                            \n",
      "==============================================================================\n",
      "Dep. Variable:              Placement   R-squared:                       0.352\n",
      "Model:                            OLS   Adj. R-squared:                  0.318\n",
      "Method:                 Least Squares   F-statistic:                     10.33\n",
      "Date:                Sat, 29 Jun 2024   Prob (F-statistic):            0.00456\n",
      "Time:                        17:43:09   Log-Likelihood:                -35.005\n",
      "No. Observations:                  21   AIC:                             74.01\n",
      "Df Residuals:                      19   BIC:                             76.10\n",
      "Df Model:                           1                                         \n",
      "Covariance Type:            nonrobust                                         \n",
      "==============================================================================\n",
      "                 coef    std err          t      P>|t|      [0.025      0.975]\n",
      "------------------------------------------------------------------------------\n",
      "const          5.4949      0.680      8.081      0.000       4.072       6.918\n",
      "Kills         -0.2091      0.065     -3.215      0.005      -0.345      -0.073\n",
      "==============================================================================\n",
      "Omnibus:                        3.631   Durbin-Watson:                   1.942\n",
      "Prob(Omnibus):                  0.163   Jarque-Bera (JB):                1.747\n",
      "Skew:                          -0.501   Prob(JB):                        0.417\n",
      "Kurtosis:                       3.997   Cond. No.                         24.4\n",
      "==============================================================================\n",
      "\n",
      "Notes:\n",
      "[1] Standard Errors assume that the covariance matrix of the errors is correctly specified.\n"
     ]
    },
    {
     "data": {
      "image/png": "[encoded data removed]",
      "text/plain": [
       "<Figure size 720x432 with 1 Axes>"
      ]
     },
     "metadata": {
      "needs_background": "light"
     },
     "output_type": "display_data"
    },
    {
     "name": "stdout",
     "output_type": "stream",
     "text": [
      "Linear Regression: Placement ~ Damage\n",
      "                            OLS Regression Results                            \n",
      "==============================================================================\n",
      "Dep. Variable:              Placement   R-squared:                       0.201\n",
      "Model:                            OLS   Adj. R-squared:                  0.159\n",
      "Method:                 Least Squares   F-statistic:                     4.771\n",
      "Date:                Sat, 29 Jun 2024   Prob (F-statistic):             0.0417\n",
      "Time:                        17:43:09   Log-Likelihood:                -37.213\n",
      "No. Observations:                  21   AIC:                             78.43\n",
      "Df Residuals:                      19   BIC:                             80.52\n",
      "Df Model:                           1                                         \n",
      "Covariance Type:            nonrobust                                         \n",
      "==============================================================================\n",
      "                 coef    std err          t      P>|t|      [0.025      0.975]\n",
      "------------------------------------------------------------------------------\n",
      "const          5.5671      0.991      5.618      0.000       3.493       7.641\n",
      "Damage     -2.465e-05   1.13e-05     -2.184      0.042   -4.83e-05   -1.03e-06\n",
      "==============================================================================\n",
      "Omnibus:                        0.442   Durbin-Watson:                   1.862\n",
      "Prob(Omnibus):                  0.802   Jarque-Bera (JB):                0.508\n",
      "Skew:                           0.288   Prob(JB):                        0.776\n",
      "Kurtosis:                       2.502   Cond. No.                     2.66e+05\n",
      "==============================================================================\n",
      "\n",
      "Notes:\n",
      "[1] Standard Errors assume that the covariance matrix of the errors is correctly specified.\n",
      "[2] The condition number is large, 2.66e+05. This might indicate that there are\n",
      "strong multicollinearity or other numerical problems.\n"
     ]
    },
    {
     "data": {
      "image/png": "[encoded data removed]",
      "text/plain": [
       "<Figure size 720x432 with 1 Axes>"
      ]
     },
     "metadata": {
      "needs_background": "light"
     },
     "output_type": "display_data"
    },
    {
     "name": "stdout",
     "output_type": "stream",
     "text": [
      "Linear Regression: Deaths ~ Damage\n",
      "                            OLS Regression Results                            \n",
      "==============================================================================\n",
      "Dep. Variable:                 Deaths   R-squared:                       0.002\n",
      "Model:                            OLS   Adj. R-squared:                 -0.051\n",
      "Method:                 Least Squares   F-statistic:                   0.03347\n",
      "Date:                Sat, 29 Jun 2024   Prob (F-statistic):              0.857\n",
      "Time:                        17:43:09   Log-Likelihood:                -49.446\n",
      "No. Observations:                  21   AIC:                             102.9\n",
      "Df Residuals:                      19   BIC:                             105.0\n",
      "Df Model:                           1                                         \n",
      "Covariance Type:            nonrobust                                         \n",
      "==============================================================================\n",
      "                 coef    std err          t      P>|t|      [0.025      0.975]\n",
      "------------------------------------------------------------------------------\n",
      "const          7.0269      1.774      3.961      0.001       3.313      10.740\n",
      "Damage      3.697e-06   2.02e-05      0.183      0.857   -3.86e-05     4.6e-05\n",
      "==============================================================================\n",
      "Omnibus:                       11.034   Durbin-Watson:                   1.568\n",
      "Prob(Omnibus):                  0.004   Jarque-Bera (JB):                8.652\n",
      "Skew:                          -1.372   Prob(JB):                       0.0132\n",
      "Kurtosis:                       4.536   Cond. No.                     2.66e+05\n",
      "==============================================================================\n",
      "\n",
      "Notes:\n",
      "[1] Standard Errors assume that the covariance matrix of the errors is correctly specified.\n",
      "[2] The condition number is large, 2.66e+05. This might indicate that there are\n",
      "strong multicollinearity or other numerical problems.\n"
     ]
    },
    {
     "data": {
      "image/png": "[encoded data removed]",
      "text/plain": [
       "<Figure size 720x432 with 1 Axes>"
      ]
     },
     "metadata": {
      "needs_background": "light"
     },
     "output_type": "display_data"
    },
    {
     "name": "stdout",
     "output_type": "stream",
     "text": [
      "Linear Regression: Assists ~ Damage\n",
      "                            OLS Regression Results                            \n",
      "==============================================================================\n",
      "Dep. Variable:                Assists   R-squared:                       0.003\n",
      "Model:                            OLS   Adj. R-squared:                 -0.050\n",
      "Method:                 Least Squares   F-statistic:                   0.04918\n",
      "Date:                Sat, 29 Jun 2024   Prob (F-statistic):              0.827\n",
      "Time:                        17:43:09   Log-Likelihood:                -55.254\n",
      "No. Observations:                  21   AIC:                             114.5\n",
      "Df Residuals:                      19   BIC:                             116.6\n",
      "Df Model:                           1                                         \n",
      "Covariance Type:            nonrobust                                         \n",
      "==============================================================================\n",
      "                 coef    std err          t      P>|t|      [0.025      0.975]\n",
      "------------------------------------------------------------------------------\n",
      "const          6.2517      2.339      2.672      0.015       1.355      11.148\n",
      "Damage     -5.909e-06   2.66e-05     -0.222      0.827   -6.17e-05    4.99e-05\n",
      "==============================================================================\n",
      "Omnibus:                       15.549   Durbin-Watson:                   1.289\n",
      "Prob(Omnibus):                  0.000   Jarque-Bera (JB):               15.198\n",
      "Skew:                           1.598   Prob(JB):                     0.000501\n",
      "Kurtosis:                       5.674   Cond. No.                     2.66e+05\n",
      "==============================================================================\n",
      "\n",
      "Notes:\n",
      "[1] Standard Errors assume that the covariance matrix of the errors is correctly specified.\n",
      "[2] The condition number is large, 2.66e+05. This might indicate that there are\n",
      "strong multicollinearity or other numerical problems.\n"
     ]
    },
    {
     "data": {
      "image/png": "[encoded data removed]",
      "text/plain": [
       "<Figure size 720x432 with 1 Axes>"
      ]
     },
     "metadata": {
      "needs_background": "light"
     },
     "output_type": "display_data"
    }
   ],
   "source": [
    "import pandas as pd\n",
    "import statsmodels.api as sm\n",
    "import matplotlib.pyplot as plt\n",
    "import seaborn as sns\n",
    "\n",
    "# Load data from CSV file\n",
    "csv_filename = 'ArenaTracker.csv'\n",
    "data = pd.read_csv(csv_filename)\n",
    "\n",
    "# Handle missing and infinite values\n",
    "data.replace([float('inf'), float('-inf')], float('nan'), inplace=True)\n",
    "data.dropna(subset=['Kills', 'Placement', 'Damage', 'Deaths', 'Assists'], inplace=True)\n",
    "\n",
    "# Define a function to perform linear regression\n",
    "def perform_linear_regression(dependent_var, independent_var):\n",
    "    # Prepare the data\n",
    "    X = data[independent_var]\n",
    "    y = data[dependent_var]\n",
    "\n",
    "    # Add a constant to the independent variable\n",
    "    X = sm.add_constant(X)\n",
    "\n",
    "    # Fit the model\n",
    "    model = sm.OLS(y, X).fit()\n",
    "\n",
    "    # Print the summary\n",
    "    print(f\"Linear Regression: {dependent_var} ~ {independent_var}\")\n",
    "    print(model.summary())\n",
    "    \n",
    "    # Plot the relationship\n",
    "    plt.figure(figsize=(10, 6))\n",
    "    sns.regplot(x=independent_var, y=dependent_var, data=data, scatter_kws={\"s\": 50}, line_kws={\"color\": \"red\"})\n",
    "    plt.xlabel(independent_var)\n",
    "    plt.ylabel(dependent_var)\n",
    "    plt.title(f\"Linear Regression: {dependent_var} vs {independent_var}\")\n",
    "    plt.show()\n",
    "\n",
    "# Parameters to analyze\n",
    "parameters = [\n",
    "    ('Kills', 'Damage'),\n",
    "    ('Placement', 'Kills'),\n",
    "    ('Placement', 'Damage'),\n",
    "    ('Deaths', 'Damage'),\n",
    "    ('Assists', 'Damage')\n",
    "]\n",
    "\n",
    "# Perform linear regression for each pair of parameters\n",
    "for dependent_var, independent_var in parameters:\n",
    "    perform_linear_regression(dependent_var, independent_var)\n"
   ]
  },
  {
   "cell_type": "markdown",
   "metadata": {},
   "source": [
    "## CSV Creater/Overwriter"
   ]
  },
  {
   "cell_type": "code",
   "execution_count": 71,
   "metadata": {},
   "outputs": [],
   "source": [
    "overwriteperms = True"
   ]
  },
  {
   "cell_type": "code",
   "execution_count": 130,
   "metadata": {},
   "outputs": [
    {
     "name": "stdout",
     "output_type": "stream",
     "text": [
      "Overwrite perms off\n"
     ]
    }
   ],
   "source": [
    "\n",
    "if overwriteperms == True:\n",
    "    \n",
    "    import csv\n",
    "\n",
    "    # Define the headers\n",
    "    headers = [\n",
    "        'Champ', 'Game', \"Prismatic Item\", \"Augment 1\", 'Augment 2', 'Augment 3', 'Augment 4', \n",
    "        'Placement', 'Teammate', 'IsPremade', 'Kills', 'Deaths', \"Assists\",\n",
    "        'Damage', 'Item 0', 'Item 1', 'Item 2', 'Item 3', 'Item 4', \n",
    "        'Item 5', 'Item 6'\n",
    "    ]\n",
    "\n",
    "    # Define the filename\n",
    "    filename = 'ArenaTrackerr.csv'\n",
    "\n",
    "    # Open the file for writing\n",
    "    with open(filename, mode='w', newline='') as file:\n",
    "        # Create a csv writer object\n",
    "        writer = csv.writer(file)\n",
    "\n",
    "        # Write the header\n",
    "        writer.writerow(headers)\n",
    "\n",
    "        # Optionally, write some data rows\n",
    "        # writer.writerow(['example_champ', 'example_game', 'example_aug_1', ...])\n",
    "\n",
    "    print(f\"CSV file '{filename}' created successfully with the specified headers.\")\n",
    "\n",
    "else:\n",
    "    print(\"Overwrite perms off\")"
   ]
  },
  {
   "cell_type": "markdown",
   "metadata": {},
   "source": [
    "## CSV Last Line Deleter"
   ]
  },
  {
   "cell_type": "code",
   "execution_count": 216,
   "metadata": {},
   "outputs": [
    {
     "name": "stdout",
     "output_type": "stream",
     "text": [
      "Last row deleted successfully from 'ArenaTracker.csv'.\n"
     ]
    }
   ],
   "source": [
    "if overwriteperms == True:\n",
    "    import csv\n",
    "\n",
    "    # Define the filename\n",
    "    filename = 'ArenaTracker.csv'\n",
    "\n",
    "    # Read the existing data from the CSV file\n",
    "    with open(filename, mode='r', newline='') as file:\n",
    "        reader = csv.reader(file)\n",
    "        data = list(reader)  # Convert iterator to list of lists\n",
    "\n",
    "    # Remove the last row from the data\n",
    "    if len(data) > 0:\n",
    "        data = data[:-1]  # Remove the last element (last row)\n",
    "\n",
    "    # Write the updated data back to the CSV file\n",
    "    with open(filename, mode='w', newline='') as file:\n",
    "        writer = csv.writer(file)\n",
    "        writer.writerows(data)\n",
    "\n",
    "    print(f\"Last row deleted successfully from '{filename}'.\")\n",
    "else:\n",
    "    print(\"Overwrite perms off\")"
   ]
  },
  {
   "cell_type": "markdown",
   "metadata": {},
   "source": [
    "# Step 1: Teammate selection"
   ]
  },
  {
   "cell_type": "code",
   "execution_count": 81,
   "metadata": {},
   "outputs": [],
   "source": [
    "TeammateChamp = 'Riven'  # Manually inputted teammate champ name\n",
    "PremadeYes = False  # Manually inputted premade status\n"
   ]
  },
  {
   "cell_type": "markdown",
   "metadata": {},
   "source": [
    "# Step 2: Importer from riot api\n",
    "## API Webpage = https://developer.riotgames.com/\n",
    "You need a new api key every 24 hours"
   ]
  },
  {
   "cell_type": "code",
   "execution_count": 102,
   "metadata": {
    "scrolled": true
   },
   "outputs": [
    {
     "name": "stdout",
     "output_type": "stream",
     "text": [
      "Data appended successfully.\n",
      "Data Added is:  {'Champ': 'Ahri', 'Game': '3', 'Prism': 'Detonation Orb', 'Aug 1': 'Eureka', 'Aug 2': 'Bread And Butter', 'Aug 3': 'Courage of the Colossus', 'Aug 4': 'Shadow Runner', 'Placement': 3, 'Teammate': 'Darius', 'IsPremade': 'No', 'Kills': 7, 'Deaths': 7, 'Assists': 8, 'Damage': 76913, 'Item 0': 'Malignance', 'Item 1': \"Zhonya's Hourglass\", 'Item 2': 'Detonation Orb', 'Item 3': \"Liandry's Torment\", 'Item 4': \"Rabadon's Deathcap\", 'Item 5': 'Cryptbloom', 'Item 6': 'Arcane Sweeper'}\n"
     ]
    }
   ],
   "source": [
    "import requests\n",
    "import json\n",
    "import csv\n",
    "\n",
    "#Your data\n",
    "API_KEY = 'RGAPI-7bbd84e1-dc26-424c-9139-14974846c31a'\n",
    "SUMMONER_NAME = 'femmesangfroid'\n",
    "REGION = 'euw1'\n",
    "GLOBAL_REGION = 'europe'\n",
    "gameName = \"femmesangfroid\"\n",
    "tagLine = \"inter\"\n",
    "\n",
    "# List of prismatic items\n",
    "prismatic_items = [\n",
    "    \"Eleisa's Miracle\", \"Gambler's Blade\", \"Night Harvester\", \"Cruelty\", \"Hemomancer's Helm\",\n",
    "    \"Cloak of Starry Night\", \"Hamstringer\", \"Shield of Molten Stone\", \"Runecarver\", \"Flesheater\",\n",
    "    \"Sanguine Gift\", \"Demonic Embrace\", \"Dragonheart\", \"Reality Fracture\", \"Duskblade of Draktharr\",\n",
    "    \"Talisman of Ascension\", \"Turbo Chemtank\", \"Darksteel Talons\", \"Mirage Blade\", \"Sword of the Divine\",\n",
    "    \"Empyrean Promise\", \"Divine Sunderer\", \"Decaitator\", \"Force of Entropy\", \"Detonation Orb\",\n",
    "    \"Crown of the Shattered Queen\", \"Innervating Locket\", \"Prowler's Claw\", \"Radiant Virtue\",\n",
    "    \"Moonflar Spellblade\", \"Demon King's Crown\", \"Overlord's Broodmail\", \"Gargoyle Stoneplate\",\n",
    "    \"Everfrost\", \"Fulmination\", \"Galeforce\"\n",
    "]\n",
    "\n",
    "\n",
    "# Load item data from JSON file\n",
    "with open('item.json', 'r') as f:\n",
    "    item_data = json.load(f)\n",
    "\n",
    "# Load augments data from JSON file and create a dictionary for quick lookup\n",
    "with open('augments.json', 'r') as f:\n",
    "    augments_data = json.load(f)\n",
    "    augments_dict = {augment['id']: augment['nameTRA'] for augment in augments_data}\n",
    "\n",
    "# Function to get augment name based on ID using the dictionary\n",
    "def get_augment_name(augment_id):\n",
    "    augment_name = augments_dict.get(augment_id, '')\n",
    "    return augment_name\n",
    "\n",
    "\n",
    "# 1. Get Summoner ID\n",
    "summoner_url = f'https://{GLOBAL_REGION}.api.riotgames.com/riot/account/v1/accounts/by-riot-id/{gameName}/{tagLine}'\n",
    "response = requests.get(summoner_url, headers={\"X-Riot-Token\": API_KEY})\n",
    "summoner_data = response.json()\n",
    "puuid = summoner_data['puuid']\n",
    "\n",
    "# Step 2: Get Match History (Assuming last match)\n",
    "match_history_url = f'https://{GLOBAL_REGION}.api.riotgames.com/lol/match/v5/matches/by-puuid/{puuid}/ids?start=0&count=1'\n",
    "response = requests.get(match_history_url, headers={\"X-Riot-Token\": API_KEY})\n",
    "match_ids = response.json()\n",
    "last_match_id = match_ids[0]\n",
    "\n",
    "# Step 3: Get Match Details\n",
    "match_details_url = f'https://{GLOBAL_REGION}.api.riotgames.com/lol/match/v5/matches/{last_match_id}'\n",
    "response = requests.get(match_details_url, headers={\"X-Riot-Token\": API_KEY})\n",
    "match_details = response.json()\n",
    "\n",
    "# Step 4: Extract your specific data from the match details\n",
    "my_data = None\n",
    "for participant in match_details['info']['participants']:\n",
    "    if participant['puuid'] == puuid:\n",
    "        my_data = participant\n",
    "        break\n",
    "\n",
    "# Step 5: Create a dictionary to map item IDs to item names\n",
    "item_dict = {item_id: details['name'] for item_id, details in item_data['data'].items()}\n",
    "\n",
    "# Step 6: Extract specific data and prepare for CSV\n",
    "if my_data:\n",
    "    extracted_data = {\n",
    "        'Champ': my_data.get('championName', ''),\n",
    "        'Game': '',  # Placeholder for the game number\n",
    "        'Prism': '',  # Placeholder for Prism augment, adjust as needed\n",
    "        'Aug 1': get_augment_name(my_data.get('playerAugment1', 0)),\n",
    "        'Aug 2': get_augment_name(my_data.get('playerAugment2', 0)),\n",
    "        'Aug 3': get_augment_name(my_data.get('playerAugment3', 0)),\n",
    "        'Aug 4': get_augment_name(my_data.get('playerAugment4', 0)),\n",
    "        'Placement': my_data.get('placement', 0),\n",
    "        'Teammate': TeammateChamp,\n",
    "        'IsPremade': 'Yes' if PremadeYes else 'No',\n",
    "        'Kills': my_data.get('kills', 0),\n",
    "        'Deaths': my_data.get('deaths', 0),\n",
    "        'Assists': my_data.get('assists', 0),  # Add assists data here\n",
    "        'Damage': my_data.get('totalDamageDealt', 0),   \n",
    "        'Item 0': item_dict.get(str(my_data.get('item0', 0)), ''),\n",
    "        'Item 1': item_dict.get(str(my_data.get('item1', 0)), ''),\n",
    "        'Item 2': item_dict.get(str(my_data.get('item2', 0)), ''),\n",
    "        'Item 3': item_dict.get(str(my_data.get('item3', 0)), ''),\n",
    "        'Item 4': item_dict.get(str(my_data.get('item4', 0)), ''),\n",
    "        'Item 5': item_dict.get(str(my_data.get('item5', 0)), ''),\n",
    "        'Item 6': item_dict.get(str(my_data.get('item6', 0)), '')\n",
    "    }\n",
    "    \n",
    "    # Check for prismatic items equipped\n",
    "    for i in range(7):\n",
    "        item_name = item_dict.get(str(my_data.get(f'item{i}', 0)), '')\n",
    "        if item_name in prismatic_items:\n",
    "            extracted_data['Prism'] = item_name\n",
    "            break\n",
    "    \n",
    "    # Check for duplicates in the CSV file and set the game number\n",
    "    last_game_number = 0\n",
    "    duplicate_row = False\n",
    "    try:\n",
    "        with open('ArenaTracker.csv', 'r', newline='') as file:\n",
    "            count = 0\n",
    "            reader = csv.DictReader(file)\n",
    "            for row in reader:\n",
    "                # Check for duplicate excluding 'Champ' and 'Game' columns\n",
    "                if row['Champ'] == extracted_data['Champ']:\n",
    "                    count+=1\n",
    "            last_game_number = count+1\n",
    "    except FileNotFoundError:\n",
    "        # If the file does not exist, start the game number at 1\n",
    "        last_game_number = 1\n",
    "\n",
    "\n",
    "    # Set the game number based on the condition\n",
    "    extracted_data['Game'] = str(last_game_number if last_game_number > 0 else 1)\n",
    "\n",
    "\n",
    "    # Append to CSV file\n",
    "    with open('ArenaTracker.csv', 'a', newline='') as file:\n",
    "        writer = csv.DictWriter(file, fieldnames=extracted_data.keys())\n",
    "        writer.writerow(extracted_data)\n",
    "        print(\"Data appended successfully.\")\n",
    "        print(\"Data Added is: \",extracted_data)\n",
    "else:\n",
    "    print(\"Your data was not found in the match details.\")\n",
    "\n",
    "\n"
   ]
  },
  {
   "cell_type": "code",
   "execution_count": 103,
   "metadata": {},
   "outputs": [],
   "source": [
    "import csv \n",
    "\n",
    "from csv import reader\n",
    "\n",
    "### data set ###\n",
    "opened_file = open('ArenaTracker.csv')\n",
    "read_file = reader(opened_file)\n",
    "arena = list(read_file)\n",
    "arena_header = arena[0]\n",
    "arena = arena[1:]\n"
   ]
  },
  {
   "cell_type": "code",
   "execution_count": 32,
   "metadata": {
    "scrolled": false
   },
   "outputs": [
    {
     "name": "stdout",
     "output_type": "stream",
     "text": [
      "None|Champ|Game|Prismatic Item|Augment 1|Augment 2|Augment 3|Augment 4|Placement|Teammate|IsPremade|Kills|Deaths|Assists|Damage|Item 0|Item 1|Item 2|Item 3|Item 4|Item 5|Item 6\n",
      "21\n"
     ]
    }
   ],
   "source": [
    "full = None\n",
    "for item in arena_header[0:]:\n",
    "    full = str(full)+\"|\"+str(item)\n",
    "print(full)\n",
    "print(len(arena_header))"
   ]
  },
  {
   "cell_type": "markdown",
   "metadata": {},
   "source": [
    "|Champ|Game|Prismatic Item|Augment 1|Augment 2|Augment 3|Augment 4|Placement|Teammate|IsPremade|Kills|Deaths|Assists|Damage|Item 0|Item 1|Item 2|Item 3|Item 4|Item 5|Item 6\n",
    "|    :----:   |    :----:   |    :----:   |    :----:   |    :----:   |    :----:   |    :----:   |    :----:   |    :----:   |    :----:   |    :----:   |    :----:   |    :----:   |    :----:   |    :----:   |    :----:   |    :----:   |    :----:   |    :----:   |    :----:   |    :----: |\n",
    "0|1|2|3|4|5|6|7|8|9|10|11|12|13|14|15|16|17|18|19|20|\n"
   ]
  },
  {
   "cell_type": "code",
   "execution_count": 123,
   "metadata": {
    "scrolled": true
   },
   "outputs": [
    {
     "data": {
      "text/markdown": [
       "| Champ   | Game | Prismatic Item         | Augment 1              | Augment 2        | Augment 3               | Augment 4     | Placement | Teammate | IsPremade | Kills | Deaths | Assists | Damage | Item 0           | Item 1              | Item 2                 | Item 3            | Item 4             | Item 5             | Item 6         |\n",
       "| ------- | ---- | ---------------------- | ---------------------- | ---------------- | ----------------------- | ------------- | --------- | -------- | --------- | ----- | ------ | ------- | ------ | ---------------- | ------------------- | ---------------------- | ----------------- | ------------------ | ------------------ | -------------- |\n",
       "| Aatrox  | 1    | Prowler's Claw         | Thread the Needle      | Jeweled Gauntlet | Outlaw's Grit           | Vengeance     | 3         | Nami     | No        | 9     | 11     | 5       | 37403  | Black Cleaver    | Ravenous Hydra      | Prowler's Claw         | Spirit Visage     | Sterak's Gage      | Sundered Sky       | Arcane Sweeper |\n",
       "| Aatrox  | 2    | Overlord's Broodmail   | Jeweled Gauntlet       | Goliath          | Mystic Punch            |               | 7         | Brand    | No        | 5     | 6      | 4       | 27596  | Black Cleaver    | Ravenous Hydra      | Overlord's Broodmail   | Spirit Visage     | Sterak's Gage      | Sundered Sky       | Arcane Sweeper |\n",
       "| Aatrox  | 3    | Duskblade of Draktharr | Soul Siphon            | Giant Slayer     | Thread the Needle       |               | 6         | Gwen     | No        | 6     | 6      | 8       | 96913  | Guardian's Blade | Mercury's Treads    | Duskblade of Draktharr | Sundered Sky      | Sterak's Gage      | Atma's Reckoning   | Arcane Sweeper |\n",
       "| Aatrox  | 4    | Prowler's Claw         | Goliath                | Blunt Force      | First-Aid Kit           | Dive Bomber   | 1         | Brand    | No        | 6     | 2      | 16      | 104528 | Black Cleaver    | Ravenous Hydra      | Prowler's Claw         | Spirit Visage     | Sterak's Gage      | Sundered Sky       | Arcane Sweeper |\n",
       "| Ahri    | 1    | Reality Fracture       | Apex Inventor          | ADAPt            | Earthwake               |               | 5         | Samira   | No        | 5     | 7      | 7       | 88031  | Guardian's Orb   | Sorcerer's Shoes    | Reality Fracture       | Heartsteel        | Eclipse            | Unending Despair   | Arcane Sweeper |\n",
       "| Akali   | 1    | Runecarver             | Witchful Thinking      | ADAPt            | Earthwake               |               | 5         | Garen    | No        | 6     | 8      | 4       | 106720 | Perplexity       | Hextech Gunblade    | Runecarver             | Sorcerer's Shoes  | Lich Bane          | Rabadon's Deathcap | Arcane Sweeper |\n",
       "| Ahri    | 2    | Dragonheart            | Magic Missile          | Vengeance        | Big Brain               |               | 4         | Diana    | No        | 7     | 5      | 7       | 81408  | Shadowflame      | Sorcerer's Shoes    | Dragonheart            | Liandry's Torment | Blackfire Torch    | Perplexity         | Arcane Sweeper |\n",
       "| Ahri    | 3    | Detonation Orb         | Eureka                 | Bread And Butter | Courage of the Colossus | Shadow Runner | 3         | Darius   | No        | 7     | 7      | 8       | 76913  | Malignance       | Zhonya's Hourglass  | Detonation Orb         | Liandry's Torment | Rabadon's Deathcap | Cryptbloom         | Arcane Sweeper |\n",
       "| Alistar | 1    | Gargoyle Stoneplate    | Center of the Universe | Dashing          | Apex Inventor           | Impassable    | 1         | Riven    | No        | 9     | 0      | 13      | 70109  | Unending Despair | Gargoyle Stoneplate | Mercury's Treads       | Heartsteel        | Kaenic Rookern     | Sundered Sky       | Arcane Sweeper |"
      ],
      "text/plain": [
       "<IPython.core.display.Markdown object>"
      ]
     },
     "metadata": {},
     "output_type": "display_data"
    }
   ],
   "source": [
    "yestable = True\n",
    "filename = \"ArenaTracker.csv\"\n",
    "\n",
    "import csv\n",
    "\n",
    "from IPython.display import display, Markdown\n",
    "\n",
    "def read_csv(filename):\n",
    "    with open(filename, mode='r', newline='') as file:\n",
    "        reader = csv.reader(file)\n",
    "        rows = list(reader)\n",
    "    return rows\n",
    "\n",
    "def format_as_markdown_table(rows):\n",
    "    # Ensure there is at least one row\n",
    "    if not rows:\n",
    "        return \"\"\n",
    "\n",
    "    # Extract headers and rows\n",
    "    headers = rows[0]\n",
    "    data = rows[1:]\n",
    "\n",
    "    # Calculate column widths\n",
    "    col_widths = [len(header) for header in headers]\n",
    "    for row in data:\n",
    "        for i, cell in enumerate(row):\n",
    "            col_widths[i] = max(col_widths[i], len(cell))\n",
    "\n",
    "    # Create the header row\n",
    "    header_row = \"| \" + \" | \".join(f\"{header.ljust(col_widths[i])}\" for i, header in enumerate(headers)) + \" |\"\n",
    "    \n",
    "    # Create the separator row\n",
    "    separator_row = \"| \" + \" | \".join('-' * col_width for col_width in col_widths) + \" |\"\n",
    "    \n",
    "    # Create the data rows\n",
    "    data_rows = [\n",
    "        \"| \" + \" | \".join(f\"{cell.ljust(col_widths[i])}\" for i, cell in enumerate(row)) + \" |\"\n",
    "        for row in data\n",
    "    ]\n",
    "\n",
    "    # Combine all rows into a single Markdown string\n",
    "    markdown_table = \"\\n\".join([header_row, separator_row] + data_rows)\n",
    "    \n",
    "    return markdown_table\n",
    "\n",
    "def display_markdown_table(filename):\n",
    "    rows = read_csv(filename)\n",
    "    markdown_table = format_as_markdown_table(rows)\n",
    "    display(Markdown(markdown_table))\n",
    "\n",
    "\n",
    "if yestable == True:\n",
    "    filename = 'ArenaTracker.csv'\n",
    "    display_markdown_table(filename)\n",
    "else:\n",
    "    print(\"No table\")\n",
    "    "
   ]
  },
  {
   "cell_type": "code",
   "execution_count": 124,
   "metadata": {},
   "outputs": [],
   "source": [
    "#to make a list of augments\n",
    "def collater(column, lib):\n",
    "    for item in column:\n",
    "        if item not in lib:\n",
    "            lib.append(item)\n",
    "    return lib\n",
    "    "
   ]
  },
  {
   "cell_type": "code",
   "execution_count": 125,
   "metadata": {
    "scrolled": false
   },
   "outputs": [
    {
     "name": "stdout",
     "output_type": "stream",
     "text": [
      "[['Thread the Needle', 'Jeweled Gauntlet', 'Soul Siphon', 'Goliath', 'Apex Inventor', 'Witchful Thinking', 'Magic Missile', 'Eureka', 'Center of the Universe'], ['Jeweled Gauntlet', 'Goliath', 'Giant Slayer', 'Blunt Force', 'ADAPt', 'ADAPt', 'Vengeance', 'Bread And Butter', 'Dashing'], [\"Outlaw's Grit\", 'Mystic Punch', 'Thread the Needle', 'First-Aid Kit', 'Earthwake', 'Earthwake', 'Big Brain', 'Courage of the Colossus', 'Apex Inventor'], ['Vengeance', '', '', 'Dive Bomber', '', '', '', 'Shadow Runner', 'Impassable']] \n",
      "\n",
      "['Thread the Needle', 'Jeweled Gauntlet', 'Soul Siphon', 'Goliath', 'Apex Inventor', 'Witchful Thinking', 'Magic Missile', 'Eureka', 'Center of the Universe', 'Jeweled Gauntlet', 'Goliath', 'Giant Slayer', 'Blunt Force', 'ADAPt', 'ADAPt', 'Vengeance', 'Bread And Butter', 'Dashing', \"Outlaw's Grit\", 'Mystic Punch', 'Thread the Needle', 'First-Aid Kit', 'Earthwake', 'Earthwake', 'Big Brain', 'Courage of the Colossus', 'Apex Inventor', 'Vengeance', '', '', 'Dive Bomber', '', '', '', 'Shadow Runner', 'Impassable']\n"
     ]
    }
   ],
   "source": [
    "def extract_column(matrix, col_index):\n",
    "    column = []\n",
    "    for row in matrix:\n",
    "        if len(row) > col_index:\n",
    "            column.append(row[col_index])\n",
    "    return column\n",
    "\n",
    "#I am writing a function to create lists by column. The columns go champset, gameset, firstaug, itemset, secondaug, thirdaug, fourthaug, placeset, teamset. Repeat the function for each column.\n",
    "champset = extract_column(arena, 0)\n",
    "gameset = extract_column(arena, 1)\n",
    "prismset = extract_column(arena, 2)\n",
    "firstaug = extract_column(arena, 3)\n",
    "secondaug = extract_column(arena, 4)\n",
    "thirdaug = extract_column(arena, 5)\n",
    "fourthaug = extract_column(arena, 6)\n",
    "placeset = extract_column(arena, 7)\n",
    "teamset = extract_column(arena, 8)\n",
    "killset = extract_column(arena, 10)\n",
    "deathset = extract_column(arena, 11)\n",
    "assistset = extract_column(arena, 12)\n",
    "damageset = extract_column(arena, 13)\n",
    "item1set = extract_column(arena, 14)\n",
    "item2set = extract_column(arena, 15)\n",
    "item3set = extract_column(arena, 16)\n",
    "item4set = extract_column(arena, 17)\n",
    "item5set = extract_column(arena, 18)\n",
    "item6set = extract_column(arena, 19)\n",
    "\n",
    "augset1 = []\n",
    "augset1.append(firstaug)\n",
    "augset1.append(secondaug)\n",
    "augset1.append(thirdaug)\n",
    "augset1.append(fourthaug)\n",
    "\n",
    "augset = []\n",
    "for row in augset1:\n",
    "    for item in row:\n",
    "        augset.append(item)\n",
    "        \n",
    "itemset1 = []\n",
    "itemset1.append(item1set)\n",
    "itemset1.append(item2set)\n",
    "itemset1.append(item3set)\n",
    "itemset1.append(item4set)\n",
    "itemset1.append(item5set)\n",
    "itemset1.append(item6set)\n",
    "\n",
    "itemset = []\n",
    "for row in itemset1:\n",
    "    for item in row:\n",
    "        itemset.append(item)\n",
    "    \n",
    "\n",
    "champs = []\n",
    "games = []\n",
    "augments = []\n",
    "items = []\n",
    "places = []\n",
    "teammates = []\n",
    "prismatics = []\n",
    "\n",
    "\n",
    "print(augset1, \"\\n\")\n",
    "print(augset)\n"
   ]
  },
  {
   "cell_type": "code",
   "execution_count": 126,
   "metadata": {
    "scrolled": true
   },
   "outputs": [],
   "source": [
    "champs = collater(champset,champs)\n",
    "games = collater(gameset, games)\n",
    "augments = collater (augset,augments)\n",
    "items = collater(itemset,items)\n",
    "places = collater(placeset,places)\n",
    "teammates = collater(teamset, teammates)\n",
    "prismatics = collater(prismset, prismatics)\n",
    "\n"
   ]
  },
  {
   "cell_type": "markdown",
   "metadata": {},
   "source": [
    "# Libraries"
   ]
  },
  {
   "cell_type": "code",
   "execution_count": 107,
   "metadata": {
    "scrolled": false
   },
   "outputs": [
    {
     "name": "stdout",
     "output_type": "stream",
     "text": [
      "Champs played:  ['Aatrox', 'Ahri', 'Akali']\n",
      "Augments picked ['Thread the Needle', 'Jeweled Gauntlet', 'Soul Siphon', 'Goliath', 'Apex Inventor', 'Witchful Thinking', 'Magic Missile', 'Eureka', 'Giant Slayer', 'Blunt Force', 'ADAPt', 'Vengeance', 'Bread And Butter', \"Outlaw's Grit\", 'Mystic Punch', 'First-Aid Kit', 'Earthwake', 'Big Brain', 'Courage of the Colossus', '', 'Dive Bomber', 'Shadow Runner']\n",
      "Items Bought ['Black Cleaver', \"Guardian's Blade\", \"Guardian's Orb\", 'Perplexity', 'Shadowflame', 'Malignance', 'Ravenous Hydra', \"Mercury's Treads\", \"Sorcerer's Shoes\", 'Hextech Gunblade', \"Zhonya's Hourglass\", \"Prowler's Claw\", \"Overlord's Broodmail\", 'Duskblade of Draktharr', 'Reality Fracture', 'Runecarver', 'Dragonheart', 'Detonation Orb', 'Spirit Visage', 'Sundered Sky', 'Heartsteel', \"Liandry's Torment\", \"Sterak's Gage\", 'Eclipse', 'Lich Bane', 'Blackfire Torch', \"Rabadon's Deathcap\", \"Atma's Reckoning\", 'Unending Despair', 'Cryptbloom']\n",
      "Teammates Inted ['Nami', 'Brand', 'Gwen', 'Samira', 'Garen', 'Diana', 'Darius']\n"
     ]
    }
   ],
   "source": [
    "print(\"Champs played: \",champs)\n",
    "print(\"Augments picked\", augments)\n",
    "print(\"Items Bought\",items)\n",
    "print(\"Teammates Inted\", teammates)"
   ]
  },
  {
   "cell_type": "markdown",
   "metadata": {},
   "source": [
    "# Champions Finished"
   ]
  },
  {
   "cell_type": "code",
   "execution_count": 108,
   "metadata": {
    "scrolled": true
   },
   "outputs": [
    {
     "name": "stdout",
     "output_type": "stream",
     "text": [
      "Aatrox is finished. It took 4 games. \n",
      "\n",
      "Wins left before title: 59\n",
      "Total games played: 8\n"
     ]
    }
   ],
   "source": [
    "wins_left = 60\n",
    "for row in arena:\n",
    "    placement_game = row[7]\n",
    "    champ_name = row[0]\n",
    "    game_number = row[1]\n",
    "    if placement_game == \"1\":\n",
    "        print(champ_name,\"is finished. It took\",game_number,\"games. \\n\")\n",
    "        wins_left = wins_left-1\n",
    "if wins_left == 60:\n",
    "        print(\"No champs are finished.\")\n",
    "print(\"Wins left before title:\",wins_left)\n",
    "print(\"Total games played:\", len(arena))"
   ]
  },
  {
   "cell_type": "code",
   "execution_count": 127,
   "metadata": {},
   "outputs": [],
   "source": [
    "def highestcounter(lib, column):\n",
    "    highestcount_count = 0\n",
    "    highestcount_name = None\n",
    "\n",
    "    for unique_item in set(lib):  # Use set to iterate over unique items in lib\n",
    "        count = 0\n",
    "        for cell in column:\n",
    "            if unique_item == cell and unique_item != \"\":\n",
    "                count += 1\n",
    "        if count > highestcount_count:\n",
    "            highestcount_count = count\n",
    "            highestcount_name = unique_item\n",
    "    return highestcount_name\n",
    "\n"
   ]
  },
  {
   "cell_type": "code",
   "execution_count": 128,
   "metadata": {
    "scrolled": true
   },
   "outputs": [
    {
     "name": "stdout",
     "output_type": "stream",
     "text": [
      "Akali 1\n",
      "Aatrox 4\n",
      "Alistar 1\n",
      "Ahri 3\n",
      " 0\n",
      "Dive Bomber 1\n",
      "Big Brain 1\n",
      "Bread And Butter 1\n",
      "ADAPt 2\n",
      "Goliath 2\n",
      "Giant Slayer 1\n",
      "Courage of the Colossus 1\n",
      "Blunt Force 1\n",
      "Jeweled Gauntlet 2\n",
      "Thread the Needle 2\n",
      "Mystic Punch 1\n",
      "Vengeance 2\n",
      "Center of the Universe 1\n",
      "Apex Inventor 2\n",
      "Eureka 1\n",
      "Witchful Thinking 1\n",
      "Magic Missile 1\n",
      "Shadow Runner 1\n",
      "First-Aid Kit 1\n",
      "Outlaw's Grit 1\n",
      "Soul Siphon 1\n",
      "Dashing 1\n",
      "Impassable 1\n",
      "Earthwake 2\n",
      "Reality Fracture 1\n",
      "Detonation Orb 1\n",
      "Prowler's Claw 2\n",
      "Runecarver 1\n",
      "Dragonheart 1\n",
      "Overlord's Broodmail 1\n",
      "Gargoyle Stoneplate 1\n",
      "Duskblade of Draktharr 1\n",
      "Garen 1\n",
      "Riven 1\n",
      "Brand 2\n",
      "Gwen 1\n",
      "Nami 1\n",
      "Darius 1\n",
      "Samira 1\n",
      "Diana 1\n"
     ]
    }
   ],
   "source": [
    "def calculate_average(numbers):\n",
    "    # Convert the list of strings to a list of integers\n",
    "    numeric_values = [int(num) for num in numbers]\n",
    "    \n",
    "    if not numeric_values:\n",
    "        return 0  # Handle the case for an empty list\n",
    "    \n",
    "    total_sum = sum(numeric_values)\n",
    "    count = len(numeric_values)\n",
    "    average = total_sum / count\n",
    "    return average\n",
    "\n",
    "mc_champ = highestcounter(champs,champset)\n",
    "mc_augment = highestcounter(augments,augset)\n",
    "mc_prismatic = highestcounter(prismatics,prismset)\n",
    "avg_placement = calculate_average(placeset)\n",
    "mc_teammate = highestcounter(teammates,teamset)\n",
    "avg_kills = calculate_average(killset)\n",
    "avg_deaths = calculate_average(deathset)\n",
    "avg_assists = calculate_average(assistset)\n",
    "avg_kdaa = (avg_kills+avg_assists)/avg_deaths\n",
    "avg_kda = f\"{avg_kdaa:.3}\"\n",
    "avg_damage = calculate_average(damageset)\n",
    "\n",
    "\n",
    "\n",
    "\n"
   ]
  },
  {
   "cell_type": "code",
   "execution_count": 129,
   "metadata": {
    "scrolled": true
   },
   "outputs": [
    {
     "data": {
      "text/markdown": [
       "\n",
       "| Champ | Augment | Prismatic | Placement | Teammate | KDA | Damage | \n",
       "|--------|--------|--------|--------|--------|--------|--------|\n",
       "| Aatrox |  ADAPt | Prowler's Claw | 3.888888888888889 | Brand | 2.54 | 76624.55555555556 |\n"
      ],
      "text/plain": [
       "<IPython.core.display.Markdown object>"
      ]
     },
     "metadata": {},
     "output_type": "display_data"
    }
   ],
   "source": [
    "from IPython.display import display, Markdown\n",
    "\n",
    "# Create the table as a Markdown string\n",
    "\n",
    "table = f\"\"\"\n",
    "| Champ | Augment | Prismatic | Placement | Teammate | KDA | Damage | \n",
    "|--------|--------|--------|--------|--------|--------|--------|\n",
    "| {mc_champ} |  {mc_augment} | {mc_prismatic} | {avg_placement} | {mc_teammate} | {avg_kda} | {avg_damage} |\n",
    "\"\"\"\n",
    "# Display the table\n",
    "display(Markdown(table))"
   ]
  }
 ],
 "metadata": {
  "kernelspec": {
   "display_name": "Python 3",
   "language": "python",
   "name": "python3"
  },
  "language_info": {
   "codemirror_mode": {
    "name": "ipython",
    "version": 3
   },
   "file_extension": ".py",
   "mimetype": "text/x-python",
   "name": "python",
   "nbconvert_exporter": "python",
   "pygments_lexer": "ipython3",
   "version": "3.8.5"
  }
 },
 "nbformat": 4,
 "nbformat_minor": 4
}
